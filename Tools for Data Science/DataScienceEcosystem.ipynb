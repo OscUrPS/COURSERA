{
  "nbformat": 4,
  "nbformat_minor": 0,
  "metadata": {
    "colab": {
      "provenance": []
    },
    "kernelspec": {
      "name": "python3",
      "display_name": "Python 3"
    },
    "language_info": {
      "name": "python"
    }
  },
  "cells": [
    {
      "cell_type": "markdown",
      "source": [
        "# Data Science Tools and Ecosystem"
      ],
      "metadata": {
        "id": "mvBv3TiCErj0"
      }
    },
    {
      "cell_type": "markdown",
      "source": [
        "In this notebook, Data Science Tools and Ecosystem are summarized."
      ],
      "metadata": {
        "id": "_XfUz1EfFVji"
      }
    },
    {
      "cell_type": "markdown",
      "source": [
        "Objectives:\n",
        "- List popular languages for Data Science\n",
        "- Mention popular libreries for Data Scince\n",
        "- Introduce Git and Github"
      ],
      "metadata": {
        "id": "Ce6CauxFK-Y0"
      }
    },
    {
      "cell_type": "markdown",
      "source": [
        "Some of the popular languages that Data Scientists use are:\n",
        "1. Python\n",
        "2. R\n",
        "3. Julia\n",
        "4. SQL"
      ],
      "metadata": {
        "id": "mVzz9vLqFVaN"
      }
    },
    {
      "cell_type": "markdown",
      "source": [
        "Some of the commonly used libraries used by Data Scientists include:\n",
        "1. Scikit-learn\n",
        "2. Pandas\n",
        "3. Matplotlib\n",
        "4. TensorFlow"
      ],
      "metadata": {
        "id": "jaxPnXyYFzZV"
      }
    },
    {
      "cell_type": "markdown",
      "source": [
        "|Data Science Tools|\n",
        "|------------------|\n",
        "Jupyter Notebook\n",
        "Jupyter Lab\n",
        "RStudio\n"
      ],
      "metadata": {
        "id": "HM7OioDAGn0_"
      }
    },
    {
      "cell_type": "markdown",
      "source": [
        "Below are a few examples of evaluating arithmetic expressions in Python"
      ],
      "metadata": {
        "id": "HId3G735KHSf"
      }
    },
    {
      "cell_type": "code",
      "execution_count": 2,
      "metadata": {
        "colab": {
          "base_uri": "https://localhost:8080/"
        },
        "id": "4Oo3NGd-EeKY",
        "outputId": "230dd433-18ee-45ed-e419-f4aa486b2859"
      },
      "outputs": [
        {
          "output_type": "execute_result",
          "data": {
            "text/plain": [
              "17"
            ]
          },
          "metadata": {},
          "execution_count": 2
        }
      ],
      "source": [
        "#This a simple arithmetic expression to mutiply then add integers\n",
        "(3*4) + 5"
      ]
    },
    {
      "cell_type": "code",
      "source": [
        "# This will convert 200 minutes to hours by diving by 60\n",
        "200/60"
      ],
      "metadata": {
        "colab": {
          "base_uri": "https://localhost:8080/"
        },
        "id": "eoZViNsnKk5P",
        "outputId": "2e68186a-59f1-4d61-be80-d4d4436644f5"
      },
      "execution_count": 3,
      "outputs": [
        {
          "output_type": "execute_result",
          "data": {
            "text/plain": [
              "3.3333333333333335"
            ]
          },
          "metadata": {},
          "execution_count": 3
        }
      ]
    },
    {
      "cell_type": "markdown",
      "source": [
        "## Autor\n",
        "Oscar Uriel Pérez Salazar"
      ],
      "metadata": {
        "id": "FWskPQyrMJEI"
      }
    }
  ]
}